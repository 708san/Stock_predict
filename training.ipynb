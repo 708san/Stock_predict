{
 "cells": [
  {
   "cell_type": "code",
   "execution_count": 2,
   "id": "1484b48b-d0ac-43bf-8763-f05eef1e9d93",
   "metadata": {},
   "outputs": [],
   "source": [
    "import pandas as pd\n",
    "import datetime\n",
    "import matplotlib.pyplot as plt\n",
    "import seaborn as sns\n",
    "import japanize_matplotlib\n",
    "import numpy as np\n",
    "from sklearn.preprocessing import StandardScaler\n",
    "import torch\n",
    "import torch.nn as nn\n",
    "import torch.optim as optim\n",
    "from sklearn.model_selection import TimeSeriesSplit\n",
    "from sklearn.metrics import roc_auc_score,roc_curve\n",
    "import numpy as np"
   ]
  },
  {
   "cell_type": "code",
   "execution_count": 3,
   "id": "3ec4c28a-c27f-48fc-aeee-fcf55da83ebf",
   "metadata": {},
   "outputs": [],
   "source": [
    "# 保存されたCSVファイルを読み込んで確認 (任意)\n",
    "stock_df = pd.read_csv('stock_data.csv')"
   ]
  },
  {
   "cell_type": "code",
   "execution_count": 4,
   "id": "f0b47715-3423-40eb-97ac-a04eb2cc88a1",
   "metadata": {},
   "outputs": [
    {
     "data": {
      "text/html": [
       "<div>\n",
       "<style scoped>\n",
       "    .dataframe tbody tr th:only-of-type {\n",
       "        vertical-align: middle;\n",
       "    }\n",
       "\n",
       "    .dataframe tbody tr th {\n",
       "        vertical-align: top;\n",
       "    }\n",
       "\n",
       "    .dataframe thead th {\n",
       "        text-align: right;\n",
       "    }\n",
       "</style>\n",
       "<table border=\"1\" class=\"dataframe\">\n",
       "  <thead>\n",
       "    <tr style=\"text-align: right;\">\n",
       "      <th></th>\n",
       "      <th>日付け</th>\n",
       "      <th>終値</th>\n",
       "      <th>始値</th>\n",
       "      <th>高値</th>\n",
       "      <th>安値</th>\n",
       "      <th>出来高</th>\n",
       "      <th>変化率 %</th>\n",
       "      <th>log(出来高)</th>\n",
       "      <th>year</th>\n",
       "      <th>month</th>\n",
       "      <th>date</th>\n",
       "      <th>曜日</th>\n",
       "      <th>変化率_数値</th>\n",
       "      <th>week</th>\n",
       "      <th>変動幅</th>\n",
       "      <th>中間値</th>\n",
       "    </tr>\n",
       "  </thead>\n",
       "  <tbody>\n",
       "    <tr>\n",
       "      <th>0</th>\n",
       "      <td>1987-02-12</td>\n",
       "      <td>182.4</td>\n",
       "      <td>182.4</td>\n",
       "      <td>182.4</td>\n",
       "      <td>182.4</td>\n",
       "      <td>1.28B</td>\n",
       "      <td>16.25%</td>\n",
       "      <td>9.107210</td>\n",
       "      <td>1987</td>\n",
       "      <td>2</td>\n",
       "      <td>12</td>\n",
       "      <td>3</td>\n",
       "      <td>16.25</td>\n",
       "      <td>0</td>\n",
       "      <td>0.0</td>\n",
       "      <td>182.40</td>\n",
       "    </tr>\n",
       "    <tr>\n",
       "      <th>1</th>\n",
       "      <td>1987-02-13</td>\n",
       "      <td>172.5</td>\n",
       "      <td>176.5</td>\n",
       "      <td>176.5</td>\n",
       "      <td>172.5</td>\n",
       "      <td>422.38M</td>\n",
       "      <td>-5.43%</td>\n",
       "      <td>8.625703</td>\n",
       "      <td>1987</td>\n",
       "      <td>2</td>\n",
       "      <td>13</td>\n",
       "      <td>4</td>\n",
       "      <td>-5.43</td>\n",
       "      <td>0</td>\n",
       "      <td>4.0</td>\n",
       "      <td>174.50</td>\n",
       "    </tr>\n",
       "    <tr>\n",
       "      <th>2</th>\n",
       "      <td>1987-02-16</td>\n",
       "      <td>175.5</td>\n",
       "      <td>166.7</td>\n",
       "      <td>175.5</td>\n",
       "      <td>165.7</td>\n",
       "      <td>360.51M</td>\n",
       "      <td>1.74%</td>\n",
       "      <td>8.556917</td>\n",
       "      <td>1987</td>\n",
       "      <td>2</td>\n",
       "      <td>16</td>\n",
       "      <td>0</td>\n",
       "      <td>1.74</td>\n",
       "      <td>1</td>\n",
       "      <td>9.8</td>\n",
       "      <td>170.60</td>\n",
       "    </tr>\n",
       "    <tr>\n",
       "      <th>3</th>\n",
       "      <td>1987-02-17</td>\n",
       "      <td>182.4</td>\n",
       "      <td>176.5</td>\n",
       "      <td>184.3</td>\n",
       "      <td>175.5</td>\n",
       "      <td>881.51M</td>\n",
       "      <td>3.93%</td>\n",
       "      <td>8.945227</td>\n",
       "      <td>1987</td>\n",
       "      <td>2</td>\n",
       "      <td>17</td>\n",
       "      <td>1</td>\n",
       "      <td>3.93</td>\n",
       "      <td>1</td>\n",
       "      <td>8.8</td>\n",
       "      <td>179.90</td>\n",
       "    </tr>\n",
       "    <tr>\n",
       "      <th>4</th>\n",
       "      <td>1987-02-18</td>\n",
       "      <td>191.2</td>\n",
       "      <td>186.3</td>\n",
       "      <td>191.2</td>\n",
       "      <td>186.3</td>\n",
       "      <td>795.09M</td>\n",
       "      <td>4.82%</td>\n",
       "      <td>8.900416</td>\n",
       "      <td>1987</td>\n",
       "      <td>2</td>\n",
       "      <td>18</td>\n",
       "      <td>2</td>\n",
       "      <td>4.82</td>\n",
       "      <td>1</td>\n",
       "      <td>4.9</td>\n",
       "      <td>188.75</td>\n",
       "    </tr>\n",
       "  </tbody>\n",
       "</table>\n",
       "</div>"
      ],
      "text/plain": [
       "          日付け     終値     始値     高値     安値      出来高   変化率 %  log(出来高)  year  \\\n",
       "0  1987-02-12  182.4  182.4  182.4  182.4    1.28B  16.25%  9.107210  1987   \n",
       "1  1987-02-13  172.5  176.5  176.5  172.5  422.38M  -5.43%  8.625703  1987   \n",
       "2  1987-02-16  175.5  166.7  175.5  165.7  360.51M   1.74%  8.556917  1987   \n",
       "3  1987-02-17  182.4  176.5  184.3  175.5  881.51M   3.93%  8.945227  1987   \n",
       "4  1987-02-18  191.2  186.3  191.2  186.3  795.09M   4.82%  8.900416  1987   \n",
       "\n",
       "   month  date  曜日  変化率_数値  week  変動幅     中間値  \n",
       "0      2    12   3   16.25     0  0.0  182.40  \n",
       "1      2    13   4   -5.43     0  4.0  174.50  \n",
       "2      2    16   0    1.74     1  9.8  170.60  \n",
       "3      2    17   1    3.93     1  8.8  179.90  \n",
       "4      2    18   2    4.82     1  4.9  188.75  "
      ]
     },
     "execution_count": 4,
     "metadata": {},
     "output_type": "execute_result"
    }
   ],
   "source": [
    "stock_df.head()"
   ]
  },
  {
   "cell_type": "markdown",
   "id": "230d76f0-0224-4866-938e-193aa6aa51da",
   "metadata": {},
   "source": [
    "今回は変化率を予想する\n",
    "株取引において、重要になるのは実際の価格よりも価格が上がるかどうかであるかである。\n",
    "例えば、次の日に株価があがるかどうかを完全に予測することができれば、その日に買って次の日に売ることで利益を出すことができる\n",
    "stock_dfの\"変化率\"カラムはその日の終値を一つ前の日の終値で割ったもの。\n",
    "つまり、目的変数は次の日の変化率である"
   ]
  },
  {
   "cell_type": "code",
   "execution_count": 5,
   "id": "b0d513ef-6eed-465c-bb88-ae92ee756d61",
   "metadata": {},
   "outputs": [
    {
     "data": {
      "text/html": [
       "<div>\n",
       "<style scoped>\n",
       "    .dataframe tbody tr th:only-of-type {\n",
       "        vertical-align: middle;\n",
       "    }\n",
       "\n",
       "    .dataframe tbody tr th {\n",
       "        vertical-align: top;\n",
       "    }\n",
       "\n",
       "    .dataframe thead th {\n",
       "        text-align: right;\n",
       "    }\n",
       "</style>\n",
       "<table border=\"1\" class=\"dataframe\">\n",
       "  <thead>\n",
       "    <tr style=\"text-align: right;\">\n",
       "      <th></th>\n",
       "      <th>日付け</th>\n",
       "      <th>終値</th>\n",
       "      <th>始値</th>\n",
       "      <th>高値</th>\n",
       "      <th>安値</th>\n",
       "      <th>出来高</th>\n",
       "      <th>変化率 %</th>\n",
       "      <th>log(出来高)</th>\n",
       "      <th>year</th>\n",
       "      <th>month</th>\n",
       "      <th>date</th>\n",
       "      <th>曜日</th>\n",
       "      <th>変化率_数値</th>\n",
       "      <th>week</th>\n",
       "      <th>変動幅</th>\n",
       "      <th>中間値</th>\n",
       "      <th>目的変数</th>\n",
       "    </tr>\n",
       "  </thead>\n",
       "  <tbody>\n",
       "    <tr>\n",
       "      <th>0</th>\n",
       "      <td>1987-02-12</td>\n",
       "      <td>182.4</td>\n",
       "      <td>182.4</td>\n",
       "      <td>182.4</td>\n",
       "      <td>182.4</td>\n",
       "      <td>1.28B</td>\n",
       "      <td>16.25%</td>\n",
       "      <td>9.107210</td>\n",
       "      <td>1987</td>\n",
       "      <td>2</td>\n",
       "      <td>12</td>\n",
       "      <td>3</td>\n",
       "      <td>16.25</td>\n",
       "      <td>0</td>\n",
       "      <td>0.0</td>\n",
       "      <td>182.40</td>\n",
       "      <td>-5.43</td>\n",
       "    </tr>\n",
       "    <tr>\n",
       "      <th>1</th>\n",
       "      <td>1987-02-13</td>\n",
       "      <td>172.5</td>\n",
       "      <td>176.5</td>\n",
       "      <td>176.5</td>\n",
       "      <td>172.5</td>\n",
       "      <td>422.38M</td>\n",
       "      <td>-5.43%</td>\n",
       "      <td>8.625703</td>\n",
       "      <td>1987</td>\n",
       "      <td>2</td>\n",
       "      <td>13</td>\n",
       "      <td>4</td>\n",
       "      <td>-5.43</td>\n",
       "      <td>0</td>\n",
       "      <td>4.0</td>\n",
       "      <td>174.50</td>\n",
       "      <td>1.74</td>\n",
       "    </tr>\n",
       "    <tr>\n",
       "      <th>2</th>\n",
       "      <td>1987-02-16</td>\n",
       "      <td>175.5</td>\n",
       "      <td>166.7</td>\n",
       "      <td>175.5</td>\n",
       "      <td>165.7</td>\n",
       "      <td>360.51M</td>\n",
       "      <td>1.74%</td>\n",
       "      <td>8.556917</td>\n",
       "      <td>1987</td>\n",
       "      <td>2</td>\n",
       "      <td>16</td>\n",
       "      <td>0</td>\n",
       "      <td>1.74</td>\n",
       "      <td>1</td>\n",
       "      <td>9.8</td>\n",
       "      <td>170.60</td>\n",
       "      <td>3.93</td>\n",
       "    </tr>\n",
       "    <tr>\n",
       "      <th>3</th>\n",
       "      <td>1987-02-17</td>\n",
       "      <td>182.4</td>\n",
       "      <td>176.5</td>\n",
       "      <td>184.3</td>\n",
       "      <td>175.5</td>\n",
       "      <td>881.51M</td>\n",
       "      <td>3.93%</td>\n",
       "      <td>8.945227</td>\n",
       "      <td>1987</td>\n",
       "      <td>2</td>\n",
       "      <td>17</td>\n",
       "      <td>1</td>\n",
       "      <td>3.93</td>\n",
       "      <td>1</td>\n",
       "      <td>8.8</td>\n",
       "      <td>179.90</td>\n",
       "      <td>4.82</td>\n",
       "    </tr>\n",
       "    <tr>\n",
       "      <th>4</th>\n",
       "      <td>1987-02-18</td>\n",
       "      <td>191.2</td>\n",
       "      <td>186.3</td>\n",
       "      <td>191.2</td>\n",
       "      <td>186.3</td>\n",
       "      <td>795.09M</td>\n",
       "      <td>4.82%</td>\n",
       "      <td>8.900416</td>\n",
       "      <td>1987</td>\n",
       "      <td>2</td>\n",
       "      <td>18</td>\n",
       "      <td>2</td>\n",
       "      <td>4.82</td>\n",
       "      <td>1</td>\n",
       "      <td>4.9</td>\n",
       "      <td>188.75</td>\n",
       "      <td>2.56</td>\n",
       "    </tr>\n",
       "  </tbody>\n",
       "</table>\n",
       "</div>"
      ],
      "text/plain": [
       "          日付け     終値     始値     高値     安値      出来高   変化率 %  log(出来高)  year  \\\n",
       "0  1987-02-12  182.4  182.4  182.4  182.4    1.28B  16.25%  9.107210  1987   \n",
       "1  1987-02-13  172.5  176.5  176.5  172.5  422.38M  -5.43%  8.625703  1987   \n",
       "2  1987-02-16  175.5  166.7  175.5  165.7  360.51M   1.74%  8.556917  1987   \n",
       "3  1987-02-17  182.4  176.5  184.3  175.5  881.51M   3.93%  8.945227  1987   \n",
       "4  1987-02-18  191.2  186.3  191.2  186.3  795.09M   4.82%  8.900416  1987   \n",
       "\n",
       "   month  date  曜日  変化率_数値  week  変動幅     中間値  目的変数  \n",
       "0      2    12   3   16.25     0  0.0  182.40 -5.43  \n",
       "1      2    13   4   -5.43     0  4.0  174.50  1.74  \n",
       "2      2    16   0    1.74     1  9.8  170.60  3.93  \n",
       "3      2    17   1    3.93     1  8.8  179.90  4.82  \n",
       "4      2    18   2    4.82     1  4.9  188.75  2.56  "
      ]
     },
     "execution_count": 5,
     "metadata": {},
     "output_type": "execute_result"
    }
   ],
   "source": [
    "stock_df['目的変数'] = stock_df['変化率_数値'].shift(-1)\n",
    "\n",
    "# 最後の行を削除\n",
    "stock_df = stock_df[:-1]\n",
    "stock_df.head()"
   ]
  },
  {
   "cell_type": "code",
   "execution_count": 6,
   "id": "6217ebb5-b1bd-40d1-b27f-6e8ea7b69839",
   "metadata": {},
   "outputs": [
    {
     "data": {
      "text/html": [
       "<div>\n",
       "<style scoped>\n",
       "    .dataframe tbody tr th:only-of-type {\n",
       "        vertical-align: middle;\n",
       "    }\n",
       "\n",
       "    .dataframe tbody tr th {\n",
       "        vertical-align: top;\n",
       "    }\n",
       "\n",
       "    .dataframe thead th {\n",
       "        text-align: right;\n",
       "    }\n",
       "</style>\n",
       "<table border=\"1\" class=\"dataframe\">\n",
       "  <thead>\n",
       "    <tr style=\"text-align: right;\">\n",
       "      <th></th>\n",
       "      <th>日付け</th>\n",
       "      <th>終値</th>\n",
       "      <th>始値</th>\n",
       "      <th>log(出来高)</th>\n",
       "      <th>曜日</th>\n",
       "      <th>変動幅</th>\n",
       "      <th>中間値</th>\n",
       "      <th>目的変数</th>\n",
       "    </tr>\n",
       "  </thead>\n",
       "  <tbody>\n",
       "    <tr>\n",
       "      <th>0</th>\n",
       "      <td>1987-02-12</td>\n",
       "      <td>182.4</td>\n",
       "      <td>182.4</td>\n",
       "      <td>9.107210</td>\n",
       "      <td>3</td>\n",
       "      <td>0.0</td>\n",
       "      <td>182.40</td>\n",
       "      <td>0</td>\n",
       "    </tr>\n",
       "    <tr>\n",
       "      <th>1</th>\n",
       "      <td>1987-02-13</td>\n",
       "      <td>172.5</td>\n",
       "      <td>176.5</td>\n",
       "      <td>8.625703</td>\n",
       "      <td>4</td>\n",
       "      <td>4.0</td>\n",
       "      <td>174.50</td>\n",
       "      <td>1</td>\n",
       "    </tr>\n",
       "    <tr>\n",
       "      <th>2</th>\n",
       "      <td>1987-02-16</td>\n",
       "      <td>175.5</td>\n",
       "      <td>166.7</td>\n",
       "      <td>8.556917</td>\n",
       "      <td>0</td>\n",
       "      <td>9.8</td>\n",
       "      <td>170.60</td>\n",
       "      <td>1</td>\n",
       "    </tr>\n",
       "    <tr>\n",
       "      <th>3</th>\n",
       "      <td>1987-02-17</td>\n",
       "      <td>182.4</td>\n",
       "      <td>176.5</td>\n",
       "      <td>8.945227</td>\n",
       "      <td>1</td>\n",
       "      <td>8.8</td>\n",
       "      <td>179.90</td>\n",
       "      <td>1</td>\n",
       "    </tr>\n",
       "    <tr>\n",
       "      <th>4</th>\n",
       "      <td>1987-02-18</td>\n",
       "      <td>191.2</td>\n",
       "      <td>186.3</td>\n",
       "      <td>8.900416</td>\n",
       "      <td>2</td>\n",
       "      <td>4.9</td>\n",
       "      <td>188.75</td>\n",
       "      <td>1</td>\n",
       "    </tr>\n",
       "  </tbody>\n",
       "</table>\n",
       "</div>"
      ],
      "text/plain": [
       "         日付け     終値     始値  log(出来高)  曜日  変動幅     中間値  目的変数\n",
       "0 1987-02-12  182.4  182.4  9.107210   3  0.0  182.40     0\n",
       "1 1987-02-13  172.5  176.5  8.625703   4  4.0  174.50     1\n",
       "2 1987-02-16  175.5  166.7  8.556917   0  9.8  170.60     1\n",
       "3 1987-02-17  182.4  176.5  8.945227   1  8.8  179.90     1\n",
       "4 1987-02-18  191.2  186.3  8.900416   2  4.9  188.75     1"
      ]
     },
     "execution_count": 6,
     "metadata": {},
     "output_type": "execute_result"
    }
   ],
   "source": [
    "ml_stock_df = stock_df[['日付け','終値','始値','log(出来高)', \n",
    "                        '曜日','変動幅', '中間値', '目的変数']].copy()\n",
    "cols_to_scale = ['終値', '始値', 'log(出来高)', '中間値', '変動幅']\n",
    "\n",
    "\n",
    "ml_stock_df['日付け'] = pd.to_datetime(ml_stock_df['日付け'])\n",
    "#分類タスクに帰着させる\n",
    "ml_stock_df['目的変数'] = np.where(ml_stock_df['目的変数'] > 0, 1, 0)\n",
    "ml_stock_df.head()"
   ]
  },
  {
   "cell_type": "markdown",
   "id": "dd1ce2ad-1bd1-4512-b0bb-4bffd2a92f66",
   "metadata": {},
   "source": [
    "今回は2013年以降のデータを用いる。また、テストデータは2023年以降を用いる"
   ]
  },
  {
   "cell_type": "markdown",
   "id": "81c54988-16dc-43b2-9c80-da3cf3b5648f",
   "metadata": {},
   "source": [
    "予測モデルを検討する\n",
    "一般的に用いられるモデルとしてARIMAモデルのような自己回帰モデルとLSTMのような深層学習モデルを検討する\n",
    "今回はLSTMモデルを用いる。理由としては、予測として株価自体ではなく翌日に上がるか下がるかを判別したい。\n",
    "符号が重要なので分類タスクに帰着させたい。加えて、 EDAの結果から変化率の自己相関が弱いことがわかるからである"
   ]
  },
  {
   "cell_type": "code",
   "execution_count": 7,
   "id": "1dfa5bcd-622f-4ea0-8fc1-9b738150d168",
   "metadata": {},
   "outputs": [],
   "source": [
    "# LSTMモデルの定義\n",
    "class LSTMModel(nn.Module):\n",
    "    def __init__(self, input_size, hidden_size, output_size,dropout_ratio):\n",
    "        super(LSTMModel, self).__init__()\n",
    "        self.lstm = nn.LSTM(input_size, hidden_size, batch_first=True)\n",
    "        self.dropout = nn.Dropout(dropout_ratio)\n",
    "        self.fc1 = nn.Linear(hidden_size, hidden_size)\n",
    "        self.fc2 = nn.Linear(hidden_size, output_size)\n",
    "        self.sigmoid = nn.Sigmoid()\n",
    "\n",
    "    def forward(self, x):\n",
    "        out, _ = self.lstm(x)\n",
    "        out = self.dropout(out[:, -1, :])\n",
    "        out = self.fc1(out) \n",
    "        out = torch.relu(out) \n",
    "        out = self.dropout(out)\n",
    "        out = self.fc2(out) \n",
    "        out = self.sigmoid(out) \n",
    "        return out"
   ]
  },
  {
   "cell_type": "code",
   "execution_count": 8,
   "id": "39a9d2f9-d114-4856-a870-b9e4b2960ff2",
   "metadata": {},
   "outputs": [],
   "source": [
    "# 時系列分割交差検証\n",
    "def time_series_cross_validation(train_data, n_splits, param_grid):\n",
    "    #gpu使えるなら使う\n",
    "    device = torch.device(\"cuda\" if torch.cuda.is_available() else \"cpu\")\n",
    "    best_score = 0\n",
    "    best_params = {}\n",
    "\n",
    "    for hidden_size in param_grid['hidden_size']:\n",
    "        for epochs in param_grid['epochs']:\n",
    "            for dropout_ratio in param_grid['dropout_ratio']:\n",
    "                for learning_rate in param_grid['learning_rate']:\n",
    "                    valid_scores = []\n",
    "                    tscv = TimeSeriesSplit(n_splits=n_splits)\n",
    "\n",
    "                    # 説明変数と目的変数を分離\n",
    "                    X = train_data.drop(\"目的変数\", axis=1).values\n",
    "                    y = train_data[\"目的変数\"].values\n",
    "\n",
    "    \n",
    "                    scaler = StandardScaler()\n",
    "                    X = scaler.fit_transform(X)\n",
    "\n",
    "\n",
    "\n",
    "                    X_tensor = torch.tensor(X, dtype=torch.float32).to(device)\n",
    "                    y_tensor = torch.tensor(y, dtype=torch.float32).to(device)\n",
    "\n",
    "\n",
    "                    for fold, (train_indices, valid_indices) in enumerate(tscv.split(X)):\n",
    "                        X_train, X_valid = X_tensor[train_indices], X_tensor[valid_indices]\n",
    "                        y_train, y_valid = y_tensor[train_indices], y_tensor[valid_indices]\n",
    "                        \n",
    "                        train_dataset = torch.utils.data.TensorDataset(X_train, y_train)\n",
    "                        train_loader = torch.utils.data.DataLoader(train_dataset, batch_size=64, shuffle=False)\n",
    "                        X_valid=X_valid.unsqueeze(1)\n",
    "\n",
    "                        # LSTMモデルの初期化\n",
    "                        input_size = X_train.shape[1]  # 特徴量の次元数\n",
    "\n",
    "                        output_size = 1\n",
    "                        model = LSTMModel(input_size, hidden_size, output_size,dropout_ratio).to(device)\n",
    "\n",
    "                        # 損失関数とオプティマイザの定義\n",
    "                        criterion = nn.BCELoss() \n",
    "                        optimizer = optim.Adam(model.parameters(),lr=learning_rate)\n",
    "\n",
    "                        \n",
    "\n",
    "                        for epoch in range(epochs):\n",
    "                            model.train()\n",
    "                            for batch_X, batch_y in train_loader:\n",
    "                                batch_X = batch_X.unsqueeze(1).to(device)\n",
    "                                batch_y = batch_y.to(device)\n",
    "                                optimizer.zero_grad()\n",
    "                                outputs = model(batch_X)\n",
    "                                loss = criterion(outputs, batch_y.view(-1, 1))\n",
    "                                loss.backward()\n",
    "                                optimizer.step()\n",
    "\n",
    "\n",
    "                        # 予測\n",
    "                        model.eval()  # 推論モードにする\n",
    "                        with torch.no_grad():\n",
    "                            y_valid_pred = model(X_valid)\n",
    "\n",
    "\n",
    "                        score = roc_auc_score(y_valid.numpy(), y_valid_pred.squeeze()) # CPUに戻してから計算\n",
    "                \n",
    "\n",
    "                        valid_scores.append(score)\n",
    "        \n",
    "                    score_= np.mean(valid_scores)\n",
    "                    if score_ > best_score:\n",
    "                        best_score = score_\n",
    "                        best_params = {'hidden_size': hidden_size, 'epochs': epochs, 'dropout_ratio': dropout_ratio,'learning_rate':learning_rate}\n",
    "            print(f\"Best AUC: {best_score}\")\n",
    "            print(f\"Best parameters: {best_params}\")\n",
    "            return best_params"
   ]
  },
  {
   "cell_type": "code",
   "execution_count": 12,
   "id": "c86cd16d-543b-42ae-ada6-9dbc085fcb81",
   "metadata": {},
   "outputs": [],
   "source": [
    "def train_and_evaluate(train_data, test_data, best_params, batch_size=64):\n",
    "    #手元の環境なのでcpu\n",
    "    device = torch.device(\"cuda\" if torch.cuda.is_available() else \"cpu\")\n",
    "\n",
    "    X_train = train_data.drop(\"目的変数\", axis=1).values\n",
    "    y_train = train_data[\"目的変数\"].values\n",
    "    X_test = test_data.drop(\"目的変数\", axis=1).values\n",
    "    y_test = test_data[\"目的変数\"].values\n",
    "\n",
    "    scaler = StandardScaler()\n",
    "    X_train = scaler.fit_transform(X_train)\n",
    "    X_test = scaler.transform(X_test)  # テストデータは訓練データのscalerでtransform\n",
    "\n",
    "    X_train_tensor = torch.tensor(X_train, dtype=torch.float32).to(device)\n",
    "    y_train_tensor = torch.tensor(y_train, dtype=torch.float32).to(device)\n",
    "    X_test_tensor = torch.tensor(X_test, dtype=torch.float32).to(device)\n",
    "    y_test_tensor = torch.tensor(y_test, dtype=torch.float32).to(device)\n",
    "\n",
    "\n",
    "    train_dataset = torch.utils.data.TensorDataset(X_train_tensor, y_train_tensor)\n",
    "    train_loader = torch.utils.data.DataLoader(train_dataset, batch_size=batch_size, shuffle=False)\n",
    "\n",
    "    X_test_tensor = X_test_tensor.unsqueeze(1).to(device)\n",
    "\n",
    "    input_size = X_train.shape[1]\n",
    "    output_size = 1\n",
    "    model = LSTMModel(input_size, best_params['hidden_size'], output_size, best_params['dropout_ratio']).to(device)\n",
    "\n",
    "    criterion = nn.BCELoss() \n",
    "    optimizer = optim.Adam(model.parameters(), lr=best_params['learning_rate'])\n",
    "\n",
    "    for epoch in range(best_params['epochs']):\n",
    "        model.train()\n",
    "        for batch_X, batch_y in train_loader:\n",
    "            batch_X = batch_X.unsqueeze(1).to(device)\n",
    "            batch_y = batch_y.to(device)\n",
    "            optimizer.zero_grad()\n",
    "            outputs = model(batch_X)\n",
    "            loss = criterion(outputs, batch_y.view(-1, 1))\n",
    "            loss.backward()\n",
    "            optimizer.step()\n",
    "\n",
    "    model.eval()\n",
    "    with torch.no_grad():\n",
    "        y_test_pred = model(X_test_tensor)\n",
    "\n",
    "    test_auc = roc_auc_score(y_test_tensor.cpu().numpy(), y_test_pred.cpu().squeeze().numpy())\n",
    "    print(f\"Test AUC: {test_auc}\")\n",
    "\n",
    "    fpr, tpr, thresholds = roc_curve(y_test_tensor.cpu().numpy(), y_test_pred.cpu().squeeze().numpy())\n",
    "    plt.plot(fpr, tpr, label=f'ROC curve (AUC = {test_auc:.2f})')\n",
    "    plt.plot([0, 1], [0, 1], linestyle='--', color='gray')  # ランダム分類器のROC曲線\n",
    "    plt.xlabel('False Positive Rate')\n",
    "    plt.ylabel('True Positive Rate')\n",
    "    plt.title('ROC Curve')\n",
    "    plt.legend()\n",
    "    plt.show()\n",
    "    \n",
    "    return test_auc"
   ]
  },
  {
   "cell_type": "code",
   "execution_count": 9,
   "id": "fae5e0aa-df85-4851-9390-85e2a25ce248",
   "metadata": {},
   "outputs": [],
   "source": [
    "ml_stock_df['年'] = ml_stock_df['日付け'].dt.year\n",
    "ml_stock_df['月'] = ml_stock_df['日付け'].dt.month\n",
    "ml_stock_df = ml_stock_df.drop(\"日付け\", axis=1)"
   ]
  },
  {
   "cell_type": "code",
   "execution_count": 54,
   "id": "ede62eeb-1c4c-4660-88d0-b1db0d9e4526",
   "metadata": {},
   "outputs": [
    {
     "name": "stderr",
     "output_type": "stream",
     "text": [
      "/var/folders/6z/413ffqhx6158t32jth0zy1q00000gp/T/ipykernel_1824/1603632541.py:7: SettingWithCopyWarning: \n",
      "A value is trying to be set on a copy of a slice from a DataFrame.\n",
      "Try using .loc[row_indexer,col_indexer] = value instead\n",
      "\n",
      "See the caveats in the documentation: https://pandas.pydata.org/pandas-docs/stable/user_guide/indexing.html#returning-a-view-versus-a-copy\n",
      "  train_data['年']=train_data['年']-1987\n",
      "/var/folders/6z/413ffqhx6158t32jth0zy1q00000gp/T/ipykernel_1824/1603632541.py:8: SettingWithCopyWarning: \n",
      "A value is trying to be set on a copy of a slice from a DataFrame.\n",
      "Try using .loc[row_indexer,col_indexer] = value instead\n",
      "\n",
      "See the caveats in the documentation: https://pandas.pydata.org/pandas-docs/stable/user_guide/indexing.html#returning-a-view-versus-a-copy\n",
      "  test_data['年']=test_data['年']-1987\n"
     ]
    }
   ],
   "source": [
    "#2013年以降のデータを使用\n",
    "train_data = ml_stock_df[(ml_stock_df['年'] >= 2013) & (ml_stock_df['年'] <= 2022)]\n",
    "\n",
    "# テストデータ\n",
    "test_data = ml_stock_df[ml_stock_df['年']>= 2023]\n",
    "\n",
    "train_data['年']=train_data['年']-1987\n",
    "test_data['年']=test_data['年']-1987"
   ]
  },
  {
   "cell_type": "code",
   "execution_count": 55,
   "id": "36681eda-4989-4275-ab88-140bef361439",
   "metadata": {},
   "outputs": [
    {
     "name": "stdout",
     "output_type": "stream",
     "text": [
      "Best AUC: 0.526758766199157\n",
      "Best parameters: {'hidden_size': 64, 'epochs': 10, 'dropout_ratio': 0.2, 'learning_rate': 0.001}\n"
     ]
    }
   ],
   "source": [
    "# 時系列分割交差検証の実行\n",
    "n_splits = 4\n",
    "param_grid = {\n",
    "    'hidden_size': [64,128,256,512],\n",
    "    'epochs': [10,20,30,40],\n",
    "    'dropout_ratio': [0.1,0.2,0.3],\n",
    "    'learning_rate':[0.1,0.01,0.001]\n",
    "}\n",
    "best_params = time_series_cross_validation(train_data, n_splits,param_grid)"
   ]
  },
  {
   "cell_type": "code",
   "execution_count": 56,
   "id": "a0c8f83e-db20-42b5-adc9-e8b06fc7750d",
   "metadata": {},
   "outputs": [
    {
     "name": "stdout",
     "output_type": "stream",
     "text": [
      "Test AUC: 0.5004403875410361\n"
     ]
    },
    {
     "data": {
      "image/png": "[encoded data removed]",
      "text/plain": [
       "<Figure size 640x480 with 1 Axes>"
      ]
     },
     "metadata": {},
     "output_type": "display_data"
    }
   ],
   "source": [
    "auc=train_and_evaluate(train_data, test_data, best_params, batch_size=64)"
   ]
  },
  {
   "cell_type": "markdown",
   "id": "e1caebc7-451e-4fc1-967c-4bd1e2d9c8b8",
   "metadata": {},
   "source": [
    "性能改善を考える\n",
    "まず第一に学習データの年数を変えてみる。\n",
    "深層学習モデルでは学習元データが多い方が望ましいので2013年からのデータを学習データとしていたが2017年から2020年にかけて株価の停滞が見られる。これらのデータはイレギュラーデータとして予測に悪影響を与える可能性がある\n",
    "そのため、まず2021以降のデータだけを学習データとして使ってみる"
   ]
  },
  {
   "cell_type": "code",
   "execution_count": 57,
   "id": "19a68376-c8f9-4635-995e-bbd83de1e146",
   "metadata": {},
   "outputs": [
    {
     "name": "stderr",
     "output_type": "stream",
     "text": [
      "/var/folders/6z/413ffqhx6158t32jth0zy1q00000gp/T/ipykernel_1824/803052279.py:7: SettingWithCopyWarning: \n",
      "A value is trying to be set on a copy of a slice from a DataFrame.\n",
      "Try using .loc[row_indexer,col_indexer] = value instead\n",
      "\n",
      "See the caveats in the documentation: https://pandas.pydata.org/pandas-docs/stable/user_guide/indexing.html#returning-a-view-versus-a-copy\n",
      "  train_data['年']=train_data['年']-1987\n",
      "/var/folders/6z/413ffqhx6158t32jth0zy1q00000gp/T/ipykernel_1824/803052279.py:8: SettingWithCopyWarning: \n",
      "A value is trying to be set on a copy of a slice from a DataFrame.\n",
      "Try using .loc[row_indexer,col_indexer] = value instead\n",
      "\n",
      "See the caveats in the documentation: https://pandas.pydata.org/pandas-docs/stable/user_guide/indexing.html#returning-a-view-versus-a-copy\n",
      "  test_data['年']=test_data['年']-1987\n"
     ]
    }
   ],
   "source": [
    "#2021年以降のデータを使用\n",
    "train_data = ml_stock_df[(ml_stock_df['年'] >= 2021) & (ml_stock_df['年'] <= 2022)]\n",
    "\n",
    "# テストデータ\n",
    "test_data = ml_stock_df[ml_stock_df['年']>= 2023]\n",
    "\n",
    "train_data['年']=train_data['年']-1987\n",
    "test_data['年']=test_data['年']-1987"
   ]
  },
  {
   "cell_type": "code",
   "execution_count": 58,
   "id": "ea633768-36cf-4677-a73d-11fc1a402802",
   "metadata": {},
   "outputs": [
    {
     "name": "stdout",
     "output_type": "stream",
     "text": [
      "Best AUC: 0.5662025635797878\n",
      "Best parameters: {'hidden_size': 64, 'epochs': 10, 'dropout_ratio': 0.3, 'learning_rate': 0.001}\n"
     ]
    }
   ],
   "source": [
    "# 時系列分割交差検証の実行\n",
    "n_splits = 4\n",
    "param_grid = {\n",
    "    'hidden_size': [64,128,256,512],\n",
    "    'epochs': [10,20,30,40],\n",
    "    'dropout_ratio': [0.1,0.2,0.3],\n",
    "    'learning_rate':[0.1,0.01,0.001]\n",
    "}\n",
    "best_params = time_series_cross_validation(train_data, n_splits,param_grid)"
   ]
  },
  {
   "cell_type": "code",
   "execution_count": 59,
   "id": "ce3ac5f5-70cc-4610-9e6f-ccb000d4c30c",
   "metadata": {},
   "outputs": [
    {
     "name": "stdout",
     "output_type": "stream",
     "text": [
      "Test AUC: 0.5029492620172418\n"
     ]
    },
    {
     "data": {
      "image/png": "[encoded data removed]",
      "text/plain": [
       "<Figure size 640x480 with 1 Axes>"
      ]
     },
     "metadata": {},
     "output_type": "display_data"
    }
   ],
   "source": [
    "auc=train_and_evaluate(train_data, test_data, best_params, batch_size=64)"
   ]
  },
  {
   "cell_type": "markdown",
   "id": "0fa871a4-1b21-4c52-b235-f9e0561382ef",
   "metadata": {},
   "source": [
    "始値と終値が非常に相関が強いため、説明変数として両方を用いる必要は薄いと考えられる\n",
    "そのため、特徴量として、始値を使うのではなく、終値-始値の新たな特徴量を作る"
   ]
  },
  {
   "cell_type": "code",
   "execution_count": 60,
   "id": "a77aca77-b044-4697-995c-b2b1579b15c9",
   "metadata": {},
   "outputs": [],
   "source": [
    "#終値-始値を持った新たなdf、ml_stock_df_を作成\n",
    "ml_stock_df_ = ml_stock_df.copy()  # 元のDataFrameを複製\n",
    "ml_stock_df_[\"終値-始値\"] = ml_stock_df_[\"終値\"] - ml_stock_df_[\"始値\"]\n",
    "ml_stock_df_ = ml_stock_df_.drop(\"始値\", axis=1)"
   ]
  },
  {
   "cell_type": "code",
   "execution_count": 61,
   "id": "cfdc2562-5f94-49e8-9557-beadd476bb01",
   "metadata": {},
   "outputs": [
    {
     "name": "stderr",
     "output_type": "stream",
     "text": [
      "/var/folders/6z/413ffqhx6158t32jth0zy1q00000gp/T/ipykernel_1824/3392523291.py:7: SettingWithCopyWarning: \n",
      "A value is trying to be set on a copy of a slice from a DataFrame.\n",
      "Try using .loc[row_indexer,col_indexer] = value instead\n",
      "\n",
      "See the caveats in the documentation: https://pandas.pydata.org/pandas-docs/stable/user_guide/indexing.html#returning-a-view-versus-a-copy\n",
      "  train_data['年']=train_data['年']-1987\n",
      "/var/folders/6z/413ffqhx6158t32jth0zy1q00000gp/T/ipykernel_1824/3392523291.py:8: SettingWithCopyWarning: \n",
      "A value is trying to be set on a copy of a slice from a DataFrame.\n",
      "Try using .loc[row_indexer,col_indexer] = value instead\n",
      "\n",
      "See the caveats in the documentation: https://pandas.pydata.org/pandas-docs/stable/user_guide/indexing.html#returning-a-view-versus-a-copy\n",
      "  test_data['年']=test_data['年']-1987\n"
     ]
    }
   ],
   "source": [
    "#ml_stock_df_の2013年以降のデータ\n",
    "train_data = ml_stock_df_[(ml_stock_df_['年'] >= 2013) & (ml_stock_df_['年'] <= 2022)]\n",
    "\n",
    "# テストデータ\n",
    "test_data = ml_stock_df_[ml_stock_df_['年']>= 2023]\n",
    "\n",
    "train_data['年']=train_data['年']-1987\n",
    "test_data['年']=test_data['年']-1987"
   ]
  },
  {
   "cell_type": "code",
   "execution_count": 62,
   "id": "c60c7303-7601-47e1-919d-e95b7e397b57",
   "metadata": {},
   "outputs": [
    {
     "name": "stdout",
     "output_type": "stream",
     "text": [
      "Best AUC: 0.5475727768458405\n",
      "Best parameters: {'hidden_size': 64, 'epochs': 10, 'dropout_ratio': 0.3, 'learning_rate': 0.001}\n"
     ]
    }
   ],
   "source": [
    "best_params = time_series_cross_validation(train_data, n_splits,param_grid)"
   ]
  },
  {
   "cell_type": "code",
   "execution_count": 63,
   "id": "22c41a06-828e-4b50-ac40-717a96de6828",
   "metadata": {},
   "outputs": [
    {
     "name": "stdout",
     "output_type": "stream",
     "text": [
      "Test AUC: 0.47412389569487823\n"
     ]
    },
    {
     "data": {
      "image/png": "[encoded data removed]",
      "text/plain": [
       "<Figure size 640x480 with 1 Axes>"
      ]
     },
     "metadata": {},
     "output_type": "display_data"
    }
   ],
   "source": [
    "auc=train_and_evaluate(train_data, test_data, best_params, batch_size=64)"
   ]
  },
  {
   "cell_type": "code",
   "execution_count": 64,
   "id": "4f859269-7d7d-4bb3-89a4-de4ed21d4a73",
   "metadata": {},
   "outputs": [
    {
     "name": "stderr",
     "output_type": "stream",
     "text": [
      "/var/folders/6z/413ffqhx6158t32jth0zy1q00000gp/T/ipykernel_1824/3026539631.py:7: SettingWithCopyWarning: \n",
      "A value is trying to be set on a copy of a slice from a DataFrame.\n",
      "Try using .loc[row_indexer,col_indexer] = value instead\n",
      "\n",
      "See the caveats in the documentation: https://pandas.pydata.org/pandas-docs/stable/user_guide/indexing.html#returning-a-view-versus-a-copy\n",
      "  train_data['年']=train_data['年']-1987\n",
      "/var/folders/6z/413ffqhx6158t32jth0zy1q00000gp/T/ipykernel_1824/3026539631.py:8: SettingWithCopyWarning: \n",
      "A value is trying to be set on a copy of a slice from a DataFrame.\n",
      "Try using .loc[row_indexer,col_indexer] = value instead\n",
      "\n",
      "See the caveats in the documentation: https://pandas.pydata.org/pandas-docs/stable/user_guide/indexing.html#returning-a-view-versus-a-copy\n",
      "  test_data['年']=test_data['年']-1987\n"
     ]
    }
   ],
   "source": [
    "#2021以降のデータを使用\n",
    "train_data = ml_stock_df_[(ml_stock_df_['年'] >= 2021) & (ml_stock_df_['年'] <= 2022)]\n",
    "\n",
    "# テストデータ\n",
    "test_data = ml_stock_df_[ml_stock_df_['年']>= 2023]\n",
    "\n",
    "train_data['年']=train_data['年']-1987\n",
    "test_data['年']=test_data['年']-1987"
   ]
  },
  {
   "cell_type": "code",
   "execution_count": 65,
   "id": "9e2a2cb9-862e-4ace-a9ba-a7dc14bca7de",
   "metadata": {},
   "outputs": [
    {
     "name": "stdout",
     "output_type": "stream",
     "text": [
      "Best AUC: 0.5744545323806084\n",
      "Best parameters: {'hidden_size': 64, 'epochs': 10, 'dropout_ratio': 0.3, 'learning_rate': 0.001}\n"
     ]
    }
   ],
   "source": [
    "best_params = time_series_cross_validation(train_data, n_splits,param_grid)"
   ]
  },
  {
   "cell_type": "code",
   "execution_count": 66,
   "id": "044274ae-f7cf-4c18-b547-e4b0a857b86e",
   "metadata": {},
   "outputs": [
    {
     "name": "stdout",
     "output_type": "stream",
     "text": [
      "Test AUC: 0.48624122561187183\n"
     ]
    },
    {
     "data": {
      "image/png": "[encoded data removed]",
      "text/plain": [
       "<Figure size 640x480 with 1 Axes>"
      ]
     },
     "metadata": {},
     "output_type": "display_data"
    }
   ],
   "source": [
    "auc=train_and_evaluate(train_data, test_data, best_params, batch_size=64)"
   ]
  },
  {
   "cell_type": "code",
   "execution_count": 24,
   "id": "76cab864-cee8-48dc-ae81-4e8a38d351d0",
   "metadata": {},
   "outputs": [
    {
     "data": {
      "text/html": [
       "<div>\n",
       "<style scoped>\n",
       "    .dataframe tbody tr th:only-of-type {\n",
       "        vertical-align: middle;\n",
       "    }\n",
       "\n",
       "    .dataframe tbody tr th {\n",
       "        vertical-align: top;\n",
       "    }\n",
       "\n",
       "    .dataframe thead th {\n",
       "        text-align: right;\n",
       "    }\n",
       "</style>\n",
       "<table border=\"1\" class=\"dataframe\">\n",
       "  <thead>\n",
       "    <tr style=\"text-align: right;\">\n",
       "      <th></th>\n",
       "      <th>終値</th>\n",
       "      <th>始値</th>\n",
       "      <th>log(出来高)</th>\n",
       "      <th>曜日</th>\n",
       "      <th>変動幅</th>\n",
       "      <th>中間値</th>\n",
       "      <th>目的変数</th>\n",
       "      <th>年</th>\n",
       "      <th>月</th>\n",
       "    </tr>\n",
       "  </thead>\n",
       "  <tbody>\n",
       "    <tr>\n",
       "      <th>0</th>\n",
       "      <td>182.4</td>\n",
       "      <td>182.4</td>\n",
       "      <td>9.107210</td>\n",
       "      <td>3</td>\n",
       "      <td>0.0</td>\n",
       "      <td>182.40</td>\n",
       "      <td>0</td>\n",
       "      <td>1987</td>\n",
       "      <td>2</td>\n",
       "    </tr>\n",
       "    <tr>\n",
       "      <th>1</th>\n",
       "      <td>172.5</td>\n",
       "      <td>176.5</td>\n",
       "      <td>8.625703</td>\n",
       "      <td>4</td>\n",
       "      <td>4.0</td>\n",
       "      <td>174.50</td>\n",
       "      <td>1</td>\n",
       "      <td>1987</td>\n",
       "      <td>2</td>\n",
       "    </tr>\n",
       "    <tr>\n",
       "      <th>2</th>\n",
       "      <td>175.5</td>\n",
       "      <td>166.7</td>\n",
       "      <td>8.556917</td>\n",
       "      <td>0</td>\n",
       "      <td>9.8</td>\n",
       "      <td>170.60</td>\n",
       "      <td>1</td>\n",
       "      <td>1987</td>\n",
       "      <td>2</td>\n",
       "    </tr>\n",
       "    <tr>\n",
       "      <th>3</th>\n",
       "      <td>182.4</td>\n",
       "      <td>176.5</td>\n",
       "      <td>8.945227</td>\n",
       "      <td>1</td>\n",
       "      <td>8.8</td>\n",
       "      <td>179.90</td>\n",
       "      <td>1</td>\n",
       "      <td>1987</td>\n",
       "      <td>2</td>\n",
       "    </tr>\n",
       "    <tr>\n",
       "      <th>4</th>\n",
       "      <td>191.2</td>\n",
       "      <td>186.3</td>\n",
       "      <td>8.900416</td>\n",
       "      <td>2</td>\n",
       "      <td>4.9</td>\n",
       "      <td>188.75</td>\n",
       "      <td>1</td>\n",
       "      <td>1987</td>\n",
       "      <td>2</td>\n",
       "    </tr>\n",
       "  </tbody>\n",
       "</table>\n",
       "</div>"
      ],
      "text/plain": [
       "      終値     始値  log(出来高)  曜日  変動幅     中間値  目的変数     年  月\n",
       "0  182.4  182.4  9.107210   3  0.0  182.40     0  1987  2\n",
       "1  172.5  176.5  8.625703   4  4.0  174.50     1  1987  2\n",
       "2  175.5  166.7  8.556917   0  9.8  170.60     1  1987  2\n",
       "3  182.4  176.5  8.945227   1  8.8  179.90     1  1987  2\n",
       "4  191.2  186.3  8.900416   2  4.9  188.75     1  1987  2"
      ]
     },
     "execution_count": 24,
     "metadata": {},
     "output_type": "execute_result"
    }
   ],
   "source": [
    "ml_stock_df.head()"
   ]
  },
  {
   "cell_type": "code",
   "execution_count": 67,
   "id": "1e594be5-cec0-47ec-b455-48516471cf0e",
   "metadata": {},
   "outputs": [],
   "source": [
    "#\"始値\",\"中間値\"を削除\n",
    "ml_stock_df__ = ml_stock_df.copy()  \n",
    "ml_stock_df__ = ml_stock_df__.drop([\"始値\",\"中間値\"],axis=1)"
   ]
  },
  {
   "cell_type": "code",
   "execution_count": 68,
   "id": "b20d7a0e-608e-4c9b-8b59-a50660aa9370",
   "metadata": {},
   "outputs": [
    {
     "name": "stderr",
     "output_type": "stream",
     "text": [
      "/var/folders/6z/413ffqhx6158t32jth0zy1q00000gp/T/ipykernel_1824/577458475.py:6: SettingWithCopyWarning: \n",
      "A value is trying to be set on a copy of a slice from a DataFrame.\n",
      "Try using .loc[row_indexer,col_indexer] = value instead\n",
      "\n",
      "See the caveats in the documentation: https://pandas.pydata.org/pandas-docs/stable/user_guide/indexing.html#returning-a-view-versus-a-copy\n",
      "  train_data['年']=train_data['年']-1987\n",
      "/var/folders/6z/413ffqhx6158t32jth0zy1q00000gp/T/ipykernel_1824/577458475.py:7: SettingWithCopyWarning: \n",
      "A value is trying to be set on a copy of a slice from a DataFrame.\n",
      "Try using .loc[row_indexer,col_indexer] = value instead\n",
      "\n",
      "See the caveats in the documentation: https://pandas.pydata.org/pandas-docs/stable/user_guide/indexing.html#returning-a-view-versus-a-copy\n",
      "  test_data['年']=test_data['年']-1987\n"
     ]
    }
   ],
   "source": [
    "train_data = ml_stock_df__[(ml_stock_df__['年'] >= 2013) & (ml_stock_df__['年'] <= 2022)]\n",
    "\n",
    "# テストデータ\n",
    "test_data = ml_stock_df__[ml_stock_df__['年']>= 2023]\n",
    "\n",
    "train_data['年']=train_data['年']-1987\n",
    "test_data['年']=test_data['年']-1987"
   ]
  },
  {
   "cell_type": "code",
   "execution_count": 69,
   "id": "d1c75708-7c0b-48d1-8550-85cdcd7c8e08",
   "metadata": {},
   "outputs": [
    {
     "name": "stdout",
     "output_type": "stream",
     "text": [
      "Best AUC: 0.529966445249028\n",
      "Best parameters: {'hidden_size': 64, 'epochs': 10, 'dropout_ratio': 0.3, 'learning_rate': 0.001}\n"
     ]
    }
   ],
   "source": [
    "best_params = time_series_cross_validation(train_data, n_splits,param_grid)"
   ]
  },
  {
   "cell_type": "code",
   "execution_count": 70,
   "id": "4e43cdb8-c1b0-4d0c-843d-d136387c1ea3",
   "metadata": {},
   "outputs": [
    {
     "name": "stdout",
     "output_type": "stream",
     "text": [
      "Test AUC: 0.4951290468946006\n"
     ]
    },
    {
     "data": {
      "image/png": "[encoded data removed]",
      "text/plain": [
       "<Figure size 640x480 with 1 Axes>"
      ]
     },
     "metadata": {},
     "output_type": "display_data"
    }
   ],
   "source": [
    "auc=train_and_evaluate(train_data, test_data, best_params, batch_size=64)"
   ]
  },
  {
   "cell_type": "code",
   "execution_count": 71,
   "id": "665eed5e-e8bd-49a4-9573-d2bcb728bb00",
   "metadata": {},
   "outputs": [
    {
     "name": "stderr",
     "output_type": "stream",
     "text": [
      "/var/folders/6z/413ffqhx6158t32jth0zy1q00000gp/T/ipykernel_1824/3935963830.py:6: SettingWithCopyWarning: \n",
      "A value is trying to be set on a copy of a slice from a DataFrame.\n",
      "Try using .loc[row_indexer,col_indexer] = value instead\n",
      "\n",
      "See the caveats in the documentation: https://pandas.pydata.org/pandas-docs/stable/user_guide/indexing.html#returning-a-view-versus-a-copy\n",
      "  train_data['年']=train_data['年']-1987\n",
      "/var/folders/6z/413ffqhx6158t32jth0zy1q00000gp/T/ipykernel_1824/3935963830.py:7: SettingWithCopyWarning: \n",
      "A value is trying to be set on a copy of a slice from a DataFrame.\n",
      "Try using .loc[row_indexer,col_indexer] = value instead\n",
      "\n",
      "See the caveats in the documentation: https://pandas.pydata.org/pandas-docs/stable/user_guide/indexing.html#returning-a-view-versus-a-copy\n",
      "  test_data['年']=test_data['年']-1987\n"
     ]
    }
   ],
   "source": [
    "train_data = ml_stock_df__[(ml_stock_df__['年'] >= 2021) & (ml_stock_df__['年'] <= 2022)]\n",
    "\n",
    "# テストデータ\n",
    "test_data = ml_stock_df__[ml_stock_df__['年']>= 2023]\n",
    "\n",
    "train_data['年']=train_data['年']-1987\n",
    "test_data['年']=test_data['年']-1987"
   ]
  },
  {
   "cell_type": "code",
   "execution_count": 72,
   "id": "b26f40e3-5be7-43c9-aa53-ed1885d6e4ad",
   "metadata": {},
   "outputs": [
    {
     "name": "stdout",
     "output_type": "stream",
     "text": [
      "Best AUC: 0.5659618229986081\n",
      "Best parameters: {'hidden_size': 64, 'epochs': 10, 'dropout_ratio': 0.3, 'learning_rate': 0.01}\n"
     ]
    }
   ],
   "source": [
    "best_params = time_series_cross_validation(train_data, n_splits,param_grid)"
   ]
  },
  {
   "cell_type": "code",
   "execution_count": 73,
   "id": "0de18b76-d875-429a-888c-935a1a440287",
   "metadata": {},
   "outputs": [
    {
     "name": "stdout",
     "output_type": "stream",
     "text": [
      "Test AUC: 0.4887767902420797\n"
     ]
    },
    {
     "data": {
      "image/png": "[encoded data removed]",
      "text/plain": [
       "<Figure size 640x480 with 1 Axes>"
      ]
     },
     "metadata": {},
     "output_type": "display_data"
    }
   ],
   "source": [
    "auc=train_and_evaluate(train_data, test_data, best_params, batch_size=64)"
   ]
  },
  {
   "cell_type": "code",
   "execution_count": null,
   "id": "eda9eb10-297c-4d04-bd82-5bf0090725aa",
   "metadata": {},
   "outputs": [],
   "source": []
  }
 ],
 "metadata": {
  "kernelspec": {
   "display_name": "Python 3 (ipykernel)",
   "language": "python",
   "name": "python3"
  },
  "language_info": {
   "codemirror_mode": {
    "name": "ipython",
    "version": 3
   },
   "file_extension": ".py",
   "mimetype": "text/x-python",
   "name": "python",
   "nbconvert_exporter": "python",
   "pygments_lexer": "ipython3",
   "version": "3.9.0"
  }
 },
 "nbformat": 4,
 "nbformat_minor": 5
}
